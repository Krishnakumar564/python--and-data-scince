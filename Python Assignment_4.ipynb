{
 "cells": [
  {
   "cell_type": "markdown",
   "metadata": {},
   "source": [
    "# ASSIGNMENT-4 PANKAJ KUMAR\n",
    "# 1. Write a function that asks for an integer and prints the square of it. Use a while loop with a try, except, else block to account for incorrect inputs."
   ]
  },
  {
   "cell_type": "code",
   "execution_count": 2,
   "metadata": {},
   "outputs": [
    {
     "name": "stdout",
     "output_type": "stream",
     "text": [
      "Enter a number: PANKAJ KUMAR\n",
      "Please Enter valid input, \n",
      "Enter a number: 6\n",
      "The Square of a number is:   36\n"
     ]
    }
   ],
   "source": [
    "def square():\n",
    "    while True:\n",
    "        try:\n",
    "            a=int(input('Enter a number: '))\n",
    "            P=a**2\n",
    "        except:\n",
    "            print('Please Enter valid input, ')\n",
    "        else:\n",
    "            print('The Square of a number is:  ',P)\n",
    "            break\n",
    "square()"
   ]
  },
  {
   "cell_type": "markdown",
   "metadata": {},
   "source": [
    "# 2.Write a function to compute 8/0 and use try/except to catch the exceptions."
   ]
  },
  {
   "cell_type": "code",
   "execution_count": 8,
   "metadata": {},
   "outputs": [
    {
     "data": {
      "text/plain": [
       "ZeroDivisionError('division by zero')"
      ]
     },
     "execution_count": 8,
     "metadata": {},
     "output_type": "execute_result"
    }
   ],
   "source": [
    "def cal():\n",
    "    try:\n",
    "        x=8/0\n",
    "        print(x)\n",
    "    except Exception as e:\n",
    "         return e\n",
    "cal()"
   ]
  },
  {
   "cell_type": "markdown",
   "metadata": {},
   "source": [
    "# 3. Write a Python program that accepts a string and calculate the number of digits and letters\n",
    "# Input :-Hello321Bye360\n",
    "# Output:-Digit - 6,Letter - 8"
   ]
  },
  {
   "cell_type": "code",
   "execution_count": 9,
   "metadata": {},
   "outputs": [
    {
     "name": "stdout",
     "output_type": "stream",
     "text": [
      "Enter the string: Hello321Bye360\n",
      " Digit- 6\n",
      " Letter- 8\n"
     ]
    }
   ],
   "source": [
    "str=input('Enter the string: ')\n",
    "dig=0\n",
    "let=0\n",
    "for i in str:\n",
    "    if i.isdigit():\n",
    "        dig=dig+1\n",
    "       \n",
    "    elif i.isalpha():\n",
    "        let=let+1\n",
    "      \n",
    "    else:\n",
    "        pass\n",
    "    \n",
    "print(' Digit-',dig)\n",
    "print(' Letter-',let)"
   ]
  },
  {
   "cell_type": "markdown",
   "metadata": {},
   "source": [
    "# 4. You are given a string.Your task is to count the frequency of letters of the string and print the letters in descending order of frequency.\n",
    "# for example :- If the following string is given as input to the program: aabbbccde\n",
    "# Then, the output of the program should be: b 3 a 2 c 2 d 1 e 1"
   ]
  },
  {
   "cell_type": "code",
   "execution_count": 10,
   "metadata": {},
   "outputs": [
    {
     "name": "stdout",
     "output_type": "stream",
     "text": [
      "aabbbccde\n",
      "b 3 a 2 c 2 d 1 e 1 "
     ]
    }
   ],
   "source": [
    "str = input()\n",
    "dict = {}\n",
    "for i in str:\n",
    "    dict[i] = dict.get(i,0) + 1\n",
    "\n",
    "dict = sorted(dict.items(),key=lambda x:(-x[1],x[0]))\n",
    "for i in dict:\n",
    "    print(i[0],i[1],end=' ')"
   ]
  },
  {
   "cell_type": "markdown",
   "metadata": {},
   "source": [
    "# 5. You are required to write a program to sort the (name, age, score) tuples by ascending order where name is string, age and score are numbers. The tuples are input by console. The sort criteria is:\n",
    "# Sort based on name\n",
    "# Then sort based on age\n",
    "# Then sort by score\n",
    "# The priority is that name > age > score.\n",
    "# If the following tuples are given as input to the program:\n",
    "# Tom,19,80\n",
    "# John,20,90\n",
    "# Jony,17,91\n",
    "# Jony,17,93\n",
    "# Json,21,85\n",
    "# Then, the output of the program should be:\n",
    "# [('John', '20', '90'), ('Jony', '17', '91'), ('Jony', '17', '93'), ('Json', '21', '85'), ('Tom', '19', '80')]"
   ]
  },
  {
   "cell_type": "code",
   "execution_count": 12,
   "metadata": {},
   "outputs": [
    {
     "name": "stdout",
     "output_type": "stream",
     "text": [
      "Tom,19,80\n",
      "John,20,90\n",
      "Jony,17,91\n",
      "Jony,17,93\n",
      "Json,21,85\n",
      "\n",
      "[('John', '20', '90'), ('Jony', '17', '91'), ('Jony', '17', '93'), ('Json', '21', '85'), ('Tom', '19', '80')]\n"
     ]
    }
   ],
   "source": [
    "from operator import itemgetter\n",
    "\n",
    "people_info = []\n",
    "while True:\n",
    "    individual_info = input()\n",
    "\n",
    "    if individual_info == \"\":\n",
    "        break\n",
    "    else:\n",
    "        people_info.append(tuple((individual_info.split(\",\"))))\n",
    "\n",
    "people_info.sort(key =  itemgetter(0, 1, 2))       \n",
    "print(people_info)"
   ]
  }
 ],
 "metadata": {
  "kernelspec": {
   "display_name": "Python 3",
   "language": "python",
   "name": "python3"
  },
  "language_info": {
   "codemirror_mode": {
    "name": "ipython",
    "version": 3
   },
   "file_extension": ".py",
   "mimetype": "text/x-python",
   "name": "python",
   "nbconvert_exporter": "python",
   "pygments_lexer": "ipython3",
   "version": "3.7.6"
  }
 },
 "nbformat": 4,
 "nbformat_minor": 5
}
