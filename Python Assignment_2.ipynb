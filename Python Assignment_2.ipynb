{
 "cells": [
  {
   "cell_type": "markdown",
   "metadata": {},
   "source": [
    "### Ques 1. Write a Python program to remove duplicates from a list."
   ]
  },
  {
   "cell_type": "code",
   "execution_count": 1,
   "metadata": {},
   "outputs": [
    {
     "name": "stdout",
     "output_type": "stream",
     "text": [
      "original list is [1, 2, 3, 1, 2, 9, 6, 3]\n",
      "after removing duplicates updated list is [1, 2, 3, 9, 6]\n"
     ]
    }
   ],
   "source": [
    "l=[1,2,3,1,2,9,6,3]\n",
    "print(\"original list is\",l)\n",
    "l1=[]\n",
    "for i in l:\n",
    "    if i not in l1:\n",
    "        l1.append(i)\n",
    "print(\"after removing duplicates updated list is\",l1)"
   ]
  },
  {
   "cell_type": "markdown",
   "metadata": {},
   "source": [
    "### Ques 2. Write a Python program to combine two dictionary adding values for common keys\n",
    "### d1 = {'a': 100, 'b': 200, 'c':300}\n",
    "### d2 = {'a': 300, 'b': 200, 'd':400}\n",
    "### Sample output: Counter({'a': 400, 'b': 400, 'd': 400, 'c': 300})\n"
   ]
  },
  {
   "cell_type": "code",
   "execution_count": 2,
   "metadata": {},
   "outputs": [
    {
     "data": {
      "text/plain": [
       "{'a': 400, 'b': 400, 'd': 400, 'c': 300}"
      ]
     },
     "execution_count": 2,
     "metadata": {},
     "output_type": "execute_result"
    }
   ],
   "source": [
    "counter={}\n",
    "d1={'a':100,'b':200,'c':300}\n",
    "d2={'a':300,'b':200,'d':400}\n",
    "for i in d1.keys():\n",
    "    for j in d2.keys():\n",
    "        if i==j:\n",
    "            #print(i,j)\n",
    "            k=d1.get(i)+d2.get(j)\n",
    "            counter[i]=k\n",
    "for f in counter.keys():\n",
    "    d1.pop(f)\n",
    "    d2.pop(f)\n",
    "counter.update(d2)\n",
    "counter.update(d1)\n",
    "counter"
   ]
  },
  {
   "cell_type": "markdown",
   "metadata": {},
   "source": [
    "### Ques 3.Write a Python program to convert a tuple to a string."
   ]
  },
  {
   "cell_type": "code",
   "execution_count": 3,
   "metadata": {},
   "outputs": [
    {
     "name": "stdout",
     "output_type": "stream",
     "text": [
      "say hello\n"
     ]
    }
   ],
   "source": [
    "str=\"\"\n",
    "t=('s','a','y',' ','h','e','l','l','o')\n",
    "for i in t:\n",
    " str=str+i\n",
    "print(str)"
   ]
  },
  {
   "cell_type": "markdown",
   "metadata": {},
   "source": [
    "### Ques 4.Write a Python program to remove item(s) from set"
   ]
  },
  {
   "cell_type": "code",
   "execution_count": 4,
   "metadata": {},
   "outputs": [
    {
     "name": "stdout",
     "output_type": "stream",
     "text": [
      "original set {4, 5, 6, 8, 10, 12}\n",
      "after removing {5, 6, 8, 10, 12}\n"
     ]
    }
   ],
   "source": [
    "s={4,6,8,10,12,5}\n",
    "print(\"original set\",s)\n",
    "s.remove(4)\n",
    "print(\"after removing\",s)"
   ]
  },
  {
   "cell_type": "markdown",
   "metadata": {},
   "source": [
    "### Ques 5. Write a Python program to create a symmetric difference"
   ]
  },
  {
   "cell_type": "code",
   "execution_count": 5,
   "metadata": {},
   "outputs": [
    {
     "name": "stdout",
     "output_type": "stream",
     "text": [
      "{1, 3, 5, 7}\n"
     ]
    }
   ],
   "source": [
    "s1={1,2,3,4,5,6,7,8}\n",
    "s2={2,4,6,8}\n",
    "intersection=s1.intersection(s2)\n",
    "union=s1.union(s2)\n",
    "symmetric_difference=union.difference(intersection)\n",
    "print(symmetric_difference)"
   ]
  },
  {
   "cell_type": "markdown",
   "metadata": {},
   "source": [
    "### Ques 6.Write a Python program to construct the following pattern, using a nested for loop.\n",
    "### *\n",
    "### *\n",
    "### *\n",
    "### *\n",
    "### *"
   ]
  },
  {
   "cell_type": "code",
   "execution_count": 6,
   "metadata": {},
   "outputs": [
    {
     "name": "stdout",
     "output_type": "stream",
     "text": [
      "*\n",
      " \n",
      "*\n",
      " \n",
      "*\n",
      " \n",
      "*\n",
      " \n",
      "*\n",
      " \n"
     ]
    }
   ],
   "source": [
    "n=5\n",
    "for i in range(n):\n",
    "    for j in range(1):\n",
    "        print('*')\n",
    "    print(' ')\n"
   ]
  },
  {
   "cell_type": "markdown",
   "metadata": {},
   "source": [
    "### Ques 7. Write a Python program to get the Fibonacci series between 0 to 50."
   ]
  },
  {
   "cell_type": "code",
   "execution_count": 7,
   "metadata": {},
   "outputs": [
    {
     "name": "stdout",
     "output_type": "stream",
     "text": [
      "[0, 1, 1, 2, 3, 5, 8, 13, 21, 34]\n"
     ]
    }
   ],
   "source": [
    "j=0\n",
    "k=1\n",
    "l=0\n",
    "count=100\n",
    "list=[j,k]\n",
    "for i in range(count):\n",
    "        l=j+k\n",
    "        if(l<51):\n",
    "            list.append(l)\n",
    "            j=k\n",
    "            k=l\n",
    "print(list)            "
   ]
  },
  {
   "cell_type": "code",
   "execution_count": null,
   "metadata": {},
   "outputs": [],
   "source": []
  }
 ],
 "metadata": {
  "kernelspec": {
   "display_name": "Python 3",
   "language": "python",
   "name": "python3"
  },
  "language_info": {
   "codemirror_mode": {
    "name": "ipython",
    "version": 3
   },
   "file_extension": ".py",
   "mimetype": "text/x-python",
   "name": "python",
   "nbconvert_exporter": "python",
   "pygments_lexer": "ipython3",
   "version": "3.7.6"
  }
 },
 "nbformat": 4,
 "nbformat_minor": 4
}
